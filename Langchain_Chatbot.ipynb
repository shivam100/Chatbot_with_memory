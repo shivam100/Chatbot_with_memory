{
 "cells": [
  {
   "cell_type": "code",
   "execution_count": null,
   "id": "b2d61238-15f0-4cfc-8739-2876a9c946ac",
   "metadata": {},
   "outputs": [],
   "source": [
    "!pip install -qU langchain openai tiktoken networkx streamlit"
   ]
  },
  {
   "cell_type": "code",
   "execution_count": null,
   "id": "3ccde12d-e6bd-4cea-9f55-0eb9a2ff73f9",
   "metadata": {},
   "outputs": [],
   "source": [
    "import inspect\n",
    "\n",
    "from getpass import getpass\n",
    "from langchain import OpenAI\n",
    "from langchain.chains import LLMChain, ConversationChain\n",
    "from langchain.chains.conversation.memory import (ConversationBufferMemory, \n",
    "                                                  ConversationSummaryMemory, \n",
    "                                                  ConversationBufferWindowMemory,\n",
    "                                                  ConversationKGMemory,\n",
    "                                                 ConversationEntityMemory)\n",
    "from langchain.chains.conversation.prompt import ENTITY_MEMORY_CONVERSATION_TEMPLATE\n",
    "from langchain.callbacks import get_openai_callback\n",
    "import tiktoken"
   ]
  },
  {
   "cell_type": "code",
   "execution_count": null,
   "id": "96183948-4f34-4e35-a5f9-c9ceefd71d1f",
   "metadata": {},
   "outputs": [],
   "source": [
    "OPENAI_API_KEY = getpass()"
   ]
  },
  {
   "cell_type": "code",
   "execution_count": null,
   "id": "a5f33d95-e57d-40f3-9f50-45fc61cf65be",
   "metadata": {},
   "outputs": [],
   "source": [
    "llm = OpenAI(\n",
    "    temperature=0, \n",
    "    openai_api_key=OPENAI_API_KEY,\n",
    "    model_name='text-davinci-003' \n",
    ")"
   ]
  },
  {
   "cell_type": "markdown",
   "id": "eeb47809-7591-4288-9c00-d391ad918d2f",
   "metadata": {},
   "source": [
    "Memory"
   ]
  },
  {
   "cell_type": "code",
   "execution_count": null,
   "id": "b850bca5-7c2e-4323-9a59-00bfc2bf1e48",
   "metadata": {},
   "outputs": [],
   "source": [
    "conversation = ConversationChain(\n",
    "    llm=llm, \n",
    ")\n",
    "print(conversation.prompt.template)"
   ]
  },
  {
   "cell_type": "markdown",
   "id": "07410401-c17a-4c8c-ae07-59306d000eb6",
   "metadata": {},
   "source": [
    "Conversation Buffer Memory"
   ]
  },
  {
   "cell_type": "code",
   "execution_count": null,
   "id": "7e2befc8-e180-4093-acbe-d4f6104bff5c",
   "metadata": {},
   "outputs": [],
   "source": [
    "conversation_buf = ConversationChain(\n",
    "    llm=llm,\n",
    "    memory=ConversationBufferMemory()\n",
    ")\n"
   ]
  },
  {
   "cell_type": "code",
   "execution_count": null,
   "id": "3eda2008-de1c-4aca-b30f-58165b03932d",
   "metadata": {},
   "outputs": [],
   "source": [
    "conversation_buf(\"Good Morning\")\n",
    "conversation_buf(\"I am trying to understand where I am making loss. Help me find out\")\n",
    "conversation_buf(\"I bought 4 kgs of Mangoes at 2$/kg. 1 kg of mango got bad and I sold remaning 3 kg of mango at 3$/kg\")\n",
    "conversation_buf(\"I bought 5 kgs of Apples at 1.5$/kg. 2 kgs of apple got bad and I sold remaning at 2$/kg\")\n",
    "conversation_buf(\"Based on the information provided above, On which transaction I am loosing money?\")"
   ]
  },
  {
   "cell_type": "code",
   "execution_count": null,
   "id": "e780bf98-2179-4d3b-ba51-e4464907c100",
   "metadata": {},
   "outputs": [],
   "source": []
  },
  {
   "cell_type": "code",
   "execution_count": null,
   "id": "1dc89dd5-f8ba-46f0-9a16-6ed195a0ad62",
   "metadata": {},
   "outputs": [],
   "source": [
    "print(conversation_buf.memory.buffer)"
   ]
  },
  {
   "cell_type": "markdown",
   "id": "9b65c5d0-5fb3-4fe7-9d9c-27b0d878e498",
   "metadata": {},
   "source": [
    "ConversationSummaryMemory"
   ]
  },
  {
   "cell_type": "code",
   "execution_count": null,
   "id": "1e307a78-5c2b-410c-9893-314e411506a2",
   "metadata": {},
   "outputs": [],
   "source": [
    "conversation_sum = ConversationChain(\n",
    "    llm=llm, \n",
    "    memory=ConversationSummaryMemory(llm=llm)\n",
    ")\n",
    "print(conversation_sum.memory.prompt.template)"
   ]
  },
  {
   "cell_type": "code",
   "execution_count": null,
   "id": "3bb6e9c1-70ef-4c40-8450-565a02019541",
   "metadata": {},
   "outputs": [],
   "source": [
    "conversation_sum(\"Good Morning\")\n",
    "conversation_sum(\"I am trying to understand where I am making loss. Help me find out\")\n",
    "conversation_sum(\"I bought 4 kgs of Mangoes at 2$/kg. 1 kg of mango got bad and I sold remaning 3 kg of mango at 3$/kg\")\n",
    "conversation_sum(\"I bought 5 kgs of Apples at 1.5$/kg. 2 kgs of apple got bad and I sold remaning at 2$/kg\")\n",
    "conversation_sum(\"Based on the information provided above, On which transaction I am loosing money?\")"
   ]
  },
  {
   "cell_type": "code",
   "execution_count": null,
   "id": "92c2f2f3-f03e-4d82-8fde-be370697e40a",
   "metadata": {},
   "outputs": [],
   "source": [
    "print(conversation_sum.memory.buffer)"
   ]
  },
  {
   "cell_type": "markdown",
   "id": "891e5626-a535-4c73-89c5-847b543407c8",
   "metadata": {},
   "source": [
    "ConversationBufferWindowMemory"
   ]
  },
  {
   "cell_type": "code",
   "execution_count": null,
   "id": "3a3a3983-28c6-4678-a54a-6d955d9928c5",
   "metadata": {},
   "outputs": [],
   "source": [
    "conversation_bufw = ConversationChain(\n",
    "    llm=llm, \n",
    "    memory=ConversationBufferWindowMemory(k=1)\n",
    ")"
   ]
  },
  {
   "cell_type": "code",
   "execution_count": null,
   "id": "e2b0dccb-d910-42ea-bef2-af92a88dcd97",
   "metadata": {},
   "outputs": [],
   "source": [
    "conversation_bufw(\"Good Morning\")\n",
    "conversation_bufw(\"I am trying to understand where I am making loss. Help me find out\")\n",
    "conversation_bufw(\"I bought 4 kgs of Mangoes at 2$/kg. 1 kg of mango got bad and I sold remaning 3 kg of mango at 3$/kg\")\n",
    "conversation_bufw(\"I bought 5 kgs of Apples at 1.5$/kg. 2 kgs of apple got bad and I sold remaning at 2$/kg\")\n",
    "conversation_bufw(\"Based on the information provided above, On which transaction I am loosing money?\")"
   ]
  },
  {
   "cell_type": "code",
   "execution_count": null,
   "id": "5fc78a68-6374-4e09-adba-55c9a6b9eea7",
   "metadata": {},
   "outputs": [],
   "source": [
    "print(conversation_bufw.memory.load_memory_variables(\n",
    "    inputs=[]\n",
    ")['history'])"
   ]
  },
  {
   "cell_type": "markdown",
   "id": "2d0a4ddb-7c39-43f3-8309-91e89260b89b",
   "metadata": {},
   "source": [
    "Knowledge Graph"
   ]
  },
  {
   "cell_type": "code",
   "execution_count": null,
   "id": "829a0f0f-aabe-4a72-baa2-4eed0e681e17",
   "metadata": {},
   "outputs": [],
   "source": [
    "conversation_kg = ConversationChain(\n",
    "    llm=llm, \n",
    "    memory=ConversationKGMemory(llm=llm)\n",
    ")"
   ]
  },
  {
   "cell_type": "code",
   "execution_count": null,
   "id": "69c364b0-2757-4f64-94a1-63abbf6ed74d",
   "metadata": {},
   "outputs": [],
   "source": [
    "conversation_kg(\"Good Morning\")\n",
    "conversation_kg(\"I am trying to understand where I am making loss. Help me find out\")\n",
    "conversation_kg(\"I bought 4 kgs of Mangoes at 2$/kg. 1 kg of mango got bad and I sold remaning 3 kg of mango at 3$/kg\")\n",
    "conversation_kg(\"I bought 5 kgs of Apples at 1.5$/kg. 2 kgs of apple got bad and I sold remaning at 2$/kg\")\n",
    "conversation_kg(\"Based on the information provided above, On which transaction I am loosing money?\")"
   ]
  },
  {
   "cell_type": "code",
   "execution_count": null,
   "id": "abaaf81e-ca10-410e-b9e1-a1739b793783",
   "metadata": {},
   "outputs": [],
   "source": [
    "conversation_entity = ConversationChain(\n",
    "    llm=llm, \n",
    "    verbose=False,\n",
    "    prompt=ENTITY_MEMORY_CONVERSATION_TEMPLATE,\n",
    "    memory=ConversationEntityMemory(llm=llm)\n",
    ")"
   ]
  },
  {
   "cell_type": "code",
   "execution_count": null,
   "id": "3225dd2a-f832-4c0e-883e-44c185b4781f",
   "metadata": {},
   "outputs": [],
   "source": [
    "conversation_entity(\"Good Morning\")\n",
    "conversation_entity(\"I am trying to understand where I am making loss. Help me find out\")\n",
    "conversation_entity(\"I bought 4 kgs of Mangoes at 2$/kg. 1 kg of mango got bad and I sold remaning 3 kg of mango at 3$/kg\")\n",
    "conversation_entity(\"I bought 5 kgs of Apples at 1.5$/kg. 2 kgs of apple got bad and I sold remaning at 2$/kg\")\n",
    "conversation_entity(\"Based on the information provided above, On which transaction I am loosing money?\")"
   ]
  },
  {
   "cell_type": "code",
   "execution_count": null,
   "id": "d62bf5e2-85b9-4891-b06b-cd51c75679c5",
   "metadata": {},
   "outputs": [],
   "source": []
  }
 ],
 "metadata": {
  "kernelspec": {
   "display_name": "Python 3 (ipykernel)",
   "language": "python",
   "name": "python3"
  },
  "language_info": {
   "codemirror_mode": {
    "name": "ipython",
    "version": 3
   },
   "file_extension": ".py",
   "mimetype": "text/x-python",
   "name": "python",
   "nbconvert_exporter": "python",
   "pygments_lexer": "ipython3",
   "version": "3.9.13"
  }
 },
 "nbformat": 4,
 "nbformat_minor": 5
}
